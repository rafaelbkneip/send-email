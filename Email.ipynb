{
  "nbformat": 4,
  "nbformat_minor": 0,
  "metadata": {
    "colab": {
      "provenance": [],
      "include_colab_link": true
    },
    "kernelspec": {
      "name": "python3",
      "display_name": "Python 3"
    },
    "language_info": {
      "name": "python"
    }
  },
  "cells": [
    {
      "cell_type": "markdown",
      "metadata": {
        "id": "view-in-github",
        "colab_type": "text"
      },
      "source": [
        "<a href=\"https://colab.research.google.com/github/rafaelbkneip/send-email/blob/main/Email.ipynb\" target=\"_parent\"><img src=\"https://colab.research.google.com/assets/colab-badge.svg\" alt=\"Open In Colab\"/></a>"
      ]
    },
    {
      "cell_type": "code",
      "source": [
        "#Instalações / Installing\n",
        "!pip install PyMuPDF\n",
        "!pip install PyPDF2\n",
        "\n",
        "\n",
        "#Importações / Imports\n",
        "from email.message import EmailMessage\n",
        "from email.mime.text import MIMEText\n",
        "from email.mime.multipart import MIMEMultipart\n",
        "from email.mime.base import MIMEBase\n",
        "from email import encoders\n",
        "from google.colab import files\n",
        "from google.colab.patches import cv2_imshow\n",
        "from google.colab.patches import cv2\n",
        "import fitz\n",
        "import smtplib\n",
        "from time import sleep"
      ],
      "metadata": {
        "id": "uIO-1lZzshPJ"
      },
      "execution_count": null,
      "outputs": []
    },
    {
      "cell_type": "code",
      "source": [
        "#Montar o drive / Mount drive\n",
        "from google.colab import drive\n",
        "drive.mount('/content/gdrive')\n",
        "\n",
        "#Autorizar o acesso / Authorize access\n",
        "from google.colab import auth\n",
        "auth.authenticate_user()\n",
        "import gspread\n",
        "from google.auth import default\n",
        "creds, _ = default()\n",
        "gc = gspread.authorize(creds)\n",
        "\n",
        "#Abrir a planilha pelo nome / Open worksheet by its name\n",
        "planilha = gc.open('')\n",
        "#Selecionar a aba desejada / Select the desired sheet\n",
        "listagem = planilha.get_worksheet()"
      ],
      "metadata": {
        "id": "dk0wiYUmsZoW"
      },
      "execution_count": null,
      "outputs": []
    },
    {
      "cell_type": "code",
      "source": [
        "#Obter todos os valores presentes na aba / Get all the values from the sheet\n",
        "valores = listagem.get_all_values()\n",
        "\n",
        "print(valores)\n",
        "\n",
        "#Listas auxiliares / Auxiliary lists\n",
        "lista_aux = []\n",
        "lista = []\n",
        "\n",
        "#Percorrer a lista / Iterate over the list\n",
        "for i in range(1, len(valores)):\n",
        "\n",
        "  #Regras de seleção das informações requeridas para o envio do e-mail / Rules for selcting the required informations to send the e-mail\n",
        "\n",
        "  #Adicionar as informações da lista axiliar em uma única lista / Add information to auxiliary list\n",
        "  lista.append(lista_aux)\n",
        "  #Lista auxliar volta a ser vazia / Empty auxiliary list\n",
        "  lista_aux = []\n",
        "\n",
        "print(lista)\n"
      ],
      "metadata": {
        "id": "odPXjDhUf5Ir"
      },
      "execution_count": null,
      "outputs": []
    },
    {
      "cell_type": "code",
      "execution_count": null,
      "metadata": {
        "id": "DjKyopZ3fVv-"
      },
      "outputs": [],
      "source": [
        "#Definir o e-mail pelo qual o e-mail será enviado / Define e-mail sender\n",
        "email_sender = ''\n",
        "\n",
        "#Defintir a senha do e-mail / Define e-mail password\n",
        "#Essa não é a senha padrão do e-mail. Deve ser criada em https://myaccount.google.com/apppasswords pelo usuário / This is not the regular e-mail password. It must be created on https://myaccount.google.com/apppasswords by the user\n",
        "email_password = ''\n",
        "\n",
        "for i in range(len(lista)):\n",
        "  \n",
        "  try:\n",
        "\n",
        "    #Considerado que o e-mail é uma das informações presente na planilha / Considering that the email is one of the pieces of information the user got from the sheet\n",
        "    email_receiver = lista[][]\n",
        "\n",
        "    subject = ''\n",
        "\n",
        "    em = MIMEMultipart()\n",
        "    em['From'] = email_sender\n",
        "    em['To'] = email_receiver\n",
        "    em['Subject'] = subject\n",
        "\n",
        "    #Corpo do e-mail em HTML / E-mail text on HTML\n",
        "    html = \"\"\"\\\n",
        "    <html>\n",
        "      <head></head>\n",
        "      <body>\n",
        "      </body>\n",
        "    </html>\n",
        "    \"\"\"\n",
        "    \n",
        "    part2 = MIMEText(html, 'html')\n",
        "    em.attach(part2)\n",
        "\n",
        "    #Adicionar um anexo / Add an attachment\n",
        "    #Abrir um arquivo do Google Drive pelo seu caminho / Open a Google Drive file by its name\n",
        "    binary_pdf = open(\"/content/gdrive/\", 'rb')\n",
        "\n",
        "    payload = MIMEBase('application', 'octate-stream', Name='Name.pdf')\n",
        "    payload.set_payload((binary_pdf).read())\n",
        "    encoders.encode_base64(payload)\n",
        "    payload.add_header('Content-Decomposition', 'attachment', filename='.pdf')\n",
        "    em.attach(payload)\n",
        "\n",
        "    #Enviar o e-mail / Send the e-mail\n",
        "    with smtplib.SMTP_SSL('smtp.gmail.com', 465) as smtp:\n",
        "      smtp.login(email_sender, email_password)\n",
        "      smtp.sendmail(email_sender, email_receiver, em.as_string())\n",
        "\n",
        "    #Tempo de envio entre os e-mails / Set the time between the e-mails\n",
        "    sleep(30)\n",
        "\n",
        "  except Exception as e: \n",
        "    print(e)\n",
        "    print('Não foi possível enviar o e-mail:', lista[][])\n",
        "    sleep(30)"
      ]
    }
  ]
}